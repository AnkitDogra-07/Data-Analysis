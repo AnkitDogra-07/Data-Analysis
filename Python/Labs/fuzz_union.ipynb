{
 "cells": [
  {
   "cell_type": "code",
   "execution_count": 5,
   "metadata": {},
   "outputs": [
    {
     "name": "stdout",
     "output_type": "stream",
     "text": [
      "The First fuzzy set: {'a': 0.2, 'b': 0.3, 'c': 0.6, 'd': 0.6}\n",
      "The Second fuzzy set: {'a': 0.8, 'b': 0.9, 'c': 0.4, 'd': 0.5}\n",
      "The Third fuzzy set: {'a': 0.8, 'b': 0.9, 'c': 0.6, 'd': 0.6}\n"
     ]
    }
   ],
   "source": [
    "A = dict()\n",
    "B = dict()\n",
    "C = dict()\n",
    "\n",
    "A = {'a':0.2, 'b':0.3, 'c':0.6, 'd':0.6}\n",
    "B = {'a':0.8, 'b':0.9, 'c':0.4, 'd':0.5}\n",
    "\n",
    "print(\"The First fuzzy set:\", A)\n",
    "print(\"The Second fuzzy set:\", B)\n",
    "\n",
    "for a, b in zip(A, B):\n",
    "    A_val = A[a]\n",
    "    B_val = B[b]\n",
    "    \n",
    "    if A_val > B_val:\n",
    "        C[a] = A_val\n",
    "    else:\n",
    "        C[b] = B_val\n",
    "\n",
    "print(\"The Third fuzzy set:\", C)"
   ]
  },
  {
   "cell_type": "code",
   "execution_count": 8,
   "metadata": {},
   "outputs": [
    {
     "name": "stdout",
     "output_type": "stream",
     "text": [
      "0\n",
      "0\n",
      "0\n",
      "1\n"
     ]
    }
   ],
   "source": [
    "import numpy as np\n",
    "\n",
    "def function(x):\n",
    "    w = np.array([1, 1])\n",
    "    b = -1.5\n",
    "    v = np.dot(x, w) + b\n",
    "    \n",
    "    if v>=0:\n",
    "        return 1\n",
    "    \n",
    "    else:\n",
    "        return 0\n",
    "    \n",
    "a = np.array([0, 0])\n",
    "b = np.array([0, 1])\n",
    "c = np.array([1, 0])\n",
    "d = np.array([1, 1])\n",
    "\n",
    "print(function(a))\n",
    "print(function(b))\n",
    "print(function(c))\n",
    "print(function(d))"
   ]
  },
  {
   "cell_type": "code",
   "execution_count": 9,
   "metadata": {},
   "outputs": [
    {
     "name": "stdout",
     "output_type": "stream",
     "text": [
      "Following is the DFS\n",
      "5\n",
      "3\n",
      "2\n",
      "4\n",
      "8\n",
      "7\n",
      "8\n",
      "None\n"
     ]
    }
   ],
   "source": [
    "graph = {\n",
    "    5:[3, 7], \n",
    "    3:[2, 4], \n",
    "    7:[8], \n",
    "    2:[], \n",
    "    4:[8], \n",
    "    8:[]\n",
    "}\n",
    "\n",
    "visited = set()\n",
    "\n",
    "def dfs(node, graph, visited):\n",
    "    if node not in visited:\n",
    "        print(node)\n",
    "        for neighbor in graph[node]:\n",
    "            dfs(neighbor, graph, visited)\n",
    "            \n",
    "print(\"Following is the DFS\")\n",
    "print(dfs(5, graph, visited))\n"
   ]
  },
  {
   "cell_type": "code",
   "execution_count": 11,
   "metadata": {},
   "outputs": [
    {
     "name": "stdout",
     "output_type": "stream",
     "text": [
      "Following is the DFS\n",
      "537248None\n"
     ]
    }
   ],
   "source": [
    "graph = {\n",
    "    5:[3, 7], \n",
    "    3:[2, 4], \n",
    "    7:[8], \n",
    "    2:[], \n",
    "    4:[8], \n",
    "    8:[]\n",
    "}\n",
    "\n",
    "visited = []\n",
    "queue = []\n",
    "\n",
    "def dfs(node, graph, visited, queue):\n",
    "    if node not in visited:\n",
    "        visited.append(node)\n",
    "        queue.append(node)\n",
    "        while queue:\n",
    "            m = queue.pop(0)\n",
    "            print(m, end=\"\")\n",
    "            for n in graph[m]:\n",
    "                if n not in visited:\n",
    "                    visited.append(n)\n",
    "                    queue.append(n)\n",
    "print(\"Following is the DFS\")\n",
    "print(dfs(5, graph, visited, queue))"
   ]
  },
  {
   "cell_type": "code",
   "execution_count": null,
   "metadata": {},
   "outputs": [],
   "source": []
  }
 ],
 "metadata": {
  "kernelspec": {
   "display_name": "minimal_ds",
   "language": "python",
   "name": "python3"
  },
  "language_info": {
   "codemirror_mode": {
    "name": "ipython",
    "version": 3
   },
   "file_extension": ".py",
   "mimetype": "text/x-python",
   "name": "python",
   "nbconvert_exporter": "python",
   "pygments_lexer": "ipython3",
   "version": "3.11.6"
  }
 },
 "nbformat": 4,
 "nbformat_minor": 2
}
